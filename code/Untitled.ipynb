{
 "cells": [
  {
   "cell_type": "code",
   "execution_count": 1,
   "id": "9dd96a0d",
   "metadata": {},
   "outputs": [],
   "source": [
    "import logging"
   ]
  },
  {
   "cell_type": "code",
   "execution_count": 3,
   "id": "656c0a7b",
   "metadata": {},
   "outputs": [],
   "source": [
    "logger = logging.getLogger(None)"
   ]
  },
  {
   "cell_type": "code",
   "execution_count": 11,
   "id": "b34c93c4",
   "metadata": {},
   "outputs": [
    {
     "name": "stderr",
     "output_type": "stream",
     "text": [
      "INFO:root:Кекую я с тебя\n",
      "22-06-10 17:19:46.547 - [INFO: Кекую я с тебя\n",
      "[INFO]22-06-10 17:19:46.547 - : Кекую я с тебя\n"
     ]
    }
   ],
   "source": [
    "logging.info('Кекую я с тебя')"
   ]
  },
  {
   "cell_type": "code",
   "execution_count": 9,
   "id": "7853e163",
   "metadata": {},
   "outputs": [],
   "source": [
    "formatter = logging.Formatter(\n",
    "    '[%(levelname)s]%(asctime)s.%(msecs)03d - : %(message)s', datefmt='%y-%m-%d %H:%M:%S')\n",
    "logger.setLevel(logging.INFO)"
   ]
  },
  {
   "cell_type": "code",
   "execution_count": 10,
   "id": "713299c7",
   "metadata": {},
   "outputs": [],
   "source": [
    "sh = logging.StreamHandler()\n",
    "sh.setFormatter(formatter)\n",
    "logger.addHandler(sh)"
   ]
  },
  {
   "cell_type": "code",
   "execution_count": 1,
   "id": "77ef5777",
   "metadata": {},
   "outputs": [],
   "source": [
    "text = 'AdamW'"
   ]
  },
  {
   "cell_type": "code",
   "execution_count": 2,
   "id": "5b01dff2",
   "metadata": {},
   "outputs": [
    {
     "data": {
      "text/plain": [
       "'adamw'"
      ]
     },
     "execution_count": 2,
     "metadata": {},
     "output_type": "execute_result"
    }
   ],
   "source": [
    "text.lower()"
   ]
  },
  {
   "cell_type": "code",
   "execution_count": 6,
   "id": "7400cc6c",
   "metadata": {},
   "outputs": [],
   "source": [
    "lol = {}"
   ]
  },
  {
   "cell_type": "code",
   "execution_count": 11,
   "id": "99292ec4",
   "metadata": {},
   "outputs": [],
   "source": [
    "lol['ke24k'] = 12345"
   ]
  },
  {
   "cell_type": "code",
   "execution_count": 14,
   "id": "089161af",
   "metadata": {},
   "outputs": [
    {
     "ename": "AttributeError",
     "evalue": "'str' object has no attribute 'item'",
     "output_type": "error",
     "traceback": [
      "\u001b[0;31m---------------------------------------------------------------------------\u001b[0m",
      "\u001b[0;31mAttributeError\u001b[0m                            Traceback (most recent call last)",
      "\u001b[0;32m/tmp/ipykernel_5088/2569814035.py\u001b[0m in \u001b[0;36m<module>\u001b[0;34m\u001b[0m\n\u001b[1;32m      1\u001b[0m \u001b[0;32mfor\u001b[0m \u001b[0mk\u001b[0m \u001b[0;32min\u001b[0m \u001b[0mlol\u001b[0m\u001b[0;34m:\u001b[0m\u001b[0;34m\u001b[0m\u001b[0;34m\u001b[0m\u001b[0m\n\u001b[0;32m----> 2\u001b[0;31m     \u001b[0mprint\u001b[0m\u001b[0;34m(\u001b[0m\u001b[0mk\u001b[0m\u001b[0;34m.\u001b[0m\u001b[0mitem\u001b[0m\u001b[0;34m(\u001b[0m\u001b[0;34m)\u001b[0m\u001b[0;34m)\u001b[0m\u001b[0;34m\u001b[0m\u001b[0;34m\u001b[0m\u001b[0m\n\u001b[0m",
      "\u001b[0;31mAttributeError\u001b[0m: 'str' object has no attribute 'item'"
     ]
    }
   ],
   "source": [
    "for k in lol:\n",
    "    print(k.item())"
   ]
  },
  {
   "cell_type": "code",
   "execution_count": 13,
   "id": "30bb20fd",
   "metadata": {},
   "outputs": [
    {
     "data": {
      "text/plain": [
       "{'kek': 123, 'ke2k': 1234, 'ke24k': 12345}"
      ]
     },
     "execution_count": 13,
     "metadata": {},
     "output_type": "execute_result"
    }
   ],
   "source": [
    "lol"
   ]
  },
  {
   "cell_type": "code",
   "execution_count": null,
   "id": "7cb93832",
   "metadata": {},
   "outputs": [],
   "source": []
  }
 ],
 "metadata": {
  "kernelspec": {
   "display_name": "Python 3 (ipykernel)",
   "language": "python",
   "name": "python3"
  },
  "language_info": {
   "codemirror_mode": {
    "name": "ipython",
    "version": 3
   },
   "file_extension": ".py",
   "mimetype": "text/x-python",
   "name": "python",
   "nbconvert_exporter": "python",
   "pygments_lexer": "ipython3",
   "version": "3.9.10"
  }
 },
 "nbformat": 4,
 "nbformat_minor": 5
}
